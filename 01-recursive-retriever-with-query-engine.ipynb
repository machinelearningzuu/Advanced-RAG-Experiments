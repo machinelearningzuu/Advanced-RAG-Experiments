{
 "cells": [
  {
   "cell_type": "markdown",
   "metadata": {},
   "source": [
    "# Recursive Retriever + Query Engine"
   ]
  },
  {
   "cell_type": "markdown",
   "metadata": {},
   "source": [
    "- The concept of recursive retrieval is that we not only explore the directly most relevant nodes, but also explore `node relationships to additional retrievers/query engines and execute them`.\n",
    "- For instance, a node may represent a concise summary of a structured table, and link to a SQL/Pandas query engine over that structured table. Then if the node is retrieved, we want to also query the underlying query engine for the answer."
   ]
  },
  {
   "cell_type": "markdown",
   "metadata": {},
   "source": [
    "# When it is useful ?\n",
    "\n",
    " - documents with hierarchical relationships\n",
    " - documents contains both `text and variety of embedded structured tables` as an example"
   ]
  },
  {
   "cell_type": "code",
   "execution_count": 33,
   "metadata": {},
   "outputs": [],
   "source": [
    "from typing import List\n",
    "import yaml, os, camelot\n",
    "from pathlib import Path\n",
    "from llama_index.schema import IndexNode\n",
    "from llama_index import Document, SummaryIndex\n",
    "from llama_index.llms import AzureOpenAI, OpenAI\n",
    "from llama_index.llm_predictor import LLMPredictor\n",
    "from llama_index import set_global_service_context\n",
    "from llama_index.retrievers import RecursiveRetriever\n",
    "from llama_hub.file.pymu_pdf.base import PyMuPDFReader\n",
    "from llama_index.embeddings import HuggingFaceEmbedding\n",
    "from llama_index.text_splitter import TokenTextSplitter\n",
    "from llama_index.query_engine import RetrieverQueryEngine\n",
    "from llama_index.response_synthesizers import get_response_synthesizer\n",
    "from llama_index.query_engine import PandasQueryEngine, RetrieverQueryEngine\n",
    "from llama_index import ServiceContext, load_index_from_storage, StorageContext, VectorStoreIndex"
   ]
  },
  {
   "cell_type": "code",
   "execution_count": 2,
   "metadata": {},
   "outputs": [],
   "source": [
    "# !wget \"https://www.dropbox.com/scl/fi/waoz9bo9yiemnhnqvu0cc/billionaires_page.pdf?rlkey=4i08msa7zr1lpnuq2y1vs2xgw&dl=1\" -O data/billionaires_page.pdf"
   ]
  },
  {
   "cell_type": "markdown",
   "metadata": {},
   "source": [
    "# Configure LLMs"
   ]
  },
  {
   "cell_type": "code",
   "execution_count": 3,
   "metadata": {},
   "outputs": [],
   "source": [
    "with open('cadentials.yaml') as f:\n",
    "    credentials = yaml.load(f, Loader=yaml.FullLoader)"
   ]
  },
  {
   "cell_type": "code",
   "execution_count": 4,
   "metadata": {},
   "outputs": [],
   "source": [
    "llm_flag = 'DIRECT'\n",
    "\n",
    "embedding_llm = HuggingFaceEmbedding(\n",
    "                                    model_name=\"BAAI/bge-large-en-v1.5\",\n",
    "                                    device='mps'\n",
    "                                    )\n",
    "\n",
    "if llm_flag == 'AZURE':\n",
    "    llm=AzureOpenAI(\n",
    "                    model=credentials['AZURE_ENGINE'],\n",
    "                    api_key=credentials['AZURE_OPENAI_API_KEY'],\n",
    "                    deployment_name=credentials['AZURE_DEPLOYMENT_ID'],\n",
    "                    api_version=credentials['AZURE_OPENAI_API_VERSION'],\n",
    "                    azure_endpoint=credentials['AZURE_OPENAI_API_BASE'],\n",
    "                    temperature=0.3\n",
    "                    )\n",
    "    \n",
    "    chat_llm = LLMPredictor(llm)\n",
    "else:\n",
    "    chat_llm = OpenAI(\n",
    "                    api_key=credentials['DEMO_OPENAI_API_KEY'],\n",
    "                    temperature=0.3\n",
    "                    )\n",
    "\n",
    "text_splitter = TokenTextSplitter(\n",
    "                                separator=\" \",\n",
    "                                chunk_size=1024,\n",
    "                                chunk_overlap=20,\n",
    "                                backup_separators=[\"\\n\"]\n",
    "                                )\n",
    "\n",
    "if llm_flag == 'AZURE':\n",
    "    service_context = ServiceContext.from_defaults(\n",
    "                                                    text_splitter=text_splitter,\n",
    "                                                    # prompt_helper=prompt_helper,\n",
    "                                                    embed_model=embedding_llm,\n",
    "                                                    llm_predictor=chat_llm\n",
    "                                                    )\n",
    "else:\n",
    "    service_context = ServiceContext.from_defaults(\n",
    "                                                    text_splitter=text_splitter,\n",
    "                                                    # prompt_helper=prompt_helper,\n",
    "                                                    embed_model=embedding_llm,\n",
    "                                                    llm=chat_llm\n",
    "                                                    )\n",
    "\n",
    "set_global_service_context(service_context)"
   ]
  },
  {
   "cell_type": "markdown",
   "metadata": {},
   "source": [
    "# Load Documents"
   ]
  },
  {
   "cell_type": "code",
   "execution_count": 15,
   "metadata": {},
   "outputs": [],
   "source": [
    "data_path = './data/billionaires_page.pdf'"
   ]
  },
  {
   "cell_type": "code",
   "execution_count": 16,
   "metadata": {},
   "outputs": [
    {
     "data": {
      "text/plain": [
       "33"
      ]
     },
     "execution_count": 16,
     "metadata": {},
     "output_type": "execute_result"
    }
   ],
   "source": [
    "reader = PyMuPDFReader()\n",
    "docs = reader.load(data_path)\n",
    "len(docs)"
   ]
  },
  {
   "cell_type": "code",
   "execution_count": 14,
   "metadata": {},
   "outputs": [],
   "source": [
    "def get_tables(\n",
    "            path: str, \n",
    "            pages: List[int]\n",
    "            ):\n",
    "    table_dfs = []\n",
    "    for page in pages:\n",
    "        table_list = camelot.read_pdf(\n",
    "                                    path, \n",
    "                                    pages=str(page)\n",
    "                                    )\n",
    "        table_df = table_list[0].df\n",
    "        table_df = (\n",
    "                    table_df.rename(columns=table_df.iloc[0])\n",
    "                    .drop(table_df.index[0])\n",
    "                    .reset_index(drop=True)\n",
    "                    )\n",
    "        table_dfs.append(table_df)\n",
    "    return table_dfs"
   ]
  },
  {
   "cell_type": "code",
   "execution_count": 18,
   "metadata": {},
   "outputs": [
    {
     "data": {
      "text/plain": [
       "2"
      ]
     },
     "execution_count": 18,
     "metadata": {},
     "output_type": "execute_result"
    }
   ],
   "source": [
    "table_dfs = get_tables(\n",
    "                        data_path, \n",
    "                        pages=[3, 25]\n",
    "                        )\n",
    "len(table_dfs)"
   ]
  },
  {
   "cell_type": "code",
   "execution_count": 19,
   "metadata": {},
   "outputs": [
    {
     "data": {
      "text/html": [
       "<div>\n",
       "<style scoped>\n",
       "    .dataframe tbody tr th:only-of-type {\n",
       "        vertical-align: middle;\n",
       "    }\n",
       "\n",
       "    .dataframe tbody tr th {\n",
       "        vertical-align: top;\n",
       "    }\n",
       "\n",
       "    .dataframe thead th {\n",
       "        text-align: right;\n",
       "    }\n",
       "</style>\n",
       "<table border=\"1\" class=\"dataframe\">\n",
       "  <thead>\n",
       "    <tr style=\"text-align: right;\">\n",
       "      <th></th>\n",
       "      <th>No.</th>\n",
       "      <th>Name</th>\n",
       "      <th>Net worth\\n(USD)</th>\n",
       "      <th>Age</th>\n",
       "      <th>Nationality</th>\n",
       "      <th>Primary source(s) of wealth</th>\n",
       "    </tr>\n",
       "  </thead>\n",
       "  <tbody>\n",
       "    <tr>\n",
       "      <th>0</th>\n",
       "      <td>1</td>\n",
       "      <td>Bernard Arnault &amp;\\nfamily</td>\n",
       "      <td>$211 billion</td>\n",
       "      <td>74</td>\n",
       "      <td>France</td>\n",
       "      <td>LVMH</td>\n",
       "    </tr>\n",
       "    <tr>\n",
       "      <th>1</th>\n",
       "      <td>2</td>\n",
       "      <td>Elon Musk</td>\n",
       "      <td>$180 billion</td>\n",
       "      <td>51</td>\n",
       "      <td>United\\nStates</td>\n",
       "      <td>Tesla, SpaceX, X Corp.</td>\n",
       "    </tr>\n",
       "    <tr>\n",
       "      <th>2</th>\n",
       "      <td>3</td>\n",
       "      <td>Jeff Bezos</td>\n",
       "      <td>$114 billion</td>\n",
       "      <td>59</td>\n",
       "      <td>United\\nStates</td>\n",
       "      <td>Amazon</td>\n",
       "    </tr>\n",
       "    <tr>\n",
       "      <th>3</th>\n",
       "      <td>4</td>\n",
       "      <td>Larry Ellison</td>\n",
       "      <td>$107 billion</td>\n",
       "      <td>78</td>\n",
       "      <td>United\\nStates</td>\n",
       "      <td>Oracle Corporation</td>\n",
       "    </tr>\n",
       "    <tr>\n",
       "      <th>4</th>\n",
       "      <td>5</td>\n",
       "      <td>Warren Buffett</td>\n",
       "      <td>$106 billion</td>\n",
       "      <td>92</td>\n",
       "      <td>United\\nStates</td>\n",
       "      <td>Berkshire Hathaway</td>\n",
       "    </tr>\n",
       "    <tr>\n",
       "      <th>5</th>\n",
       "      <td>6</td>\n",
       "      <td>Bill Gates</td>\n",
       "      <td>$104 billion</td>\n",
       "      <td>67</td>\n",
       "      <td>United\\nStates</td>\n",
       "      <td>Microsoft</td>\n",
       "    </tr>\n",
       "    <tr>\n",
       "      <th>6</th>\n",
       "      <td>7</td>\n",
       "      <td>Michael Bloomberg</td>\n",
       "      <td>$94.5 billion</td>\n",
       "      <td>81</td>\n",
       "      <td>United\\nStates</td>\n",
       "      <td>Bloomberg L.P.</td>\n",
       "    </tr>\n",
       "    <tr>\n",
       "      <th>7</th>\n",
       "      <td>8</td>\n",
       "      <td>Carlos Slim &amp; family</td>\n",
       "      <td>$93 billion</td>\n",
       "      <td>83</td>\n",
       "      <td>Mexico</td>\n",
       "      <td>Telmex, América Móvil, Grupo\\nCarso</td>\n",
       "    </tr>\n",
       "    <tr>\n",
       "      <th>8</th>\n",
       "      <td>9</td>\n",
       "      <td>Mukesh Ambani</td>\n",
       "      <td>$83.4 billion</td>\n",
       "      <td>65</td>\n",
       "      <td>India</td>\n",
       "      <td>Reliance Industries</td>\n",
       "    </tr>\n",
       "    <tr>\n",
       "      <th>9</th>\n",
       "      <td>10</td>\n",
       "      <td>Steve Ballmer</td>\n",
       "      <td>$80.7 billion</td>\n",
       "      <td>67</td>\n",
       "      <td>United\\nStates</td>\n",
       "      <td>Microsoft</td>\n",
       "    </tr>\n",
       "  </tbody>\n",
       "</table>\n",
       "</div>"
      ],
      "text/plain": [
       "  No.                       Name Net worth\\n(USD) Age     Nationality  \\\n",
       "0   1  Bernard Arnault &\\nfamily     $211 billion  74          France   \n",
       "1   2                  Elon Musk     $180 billion  51  United\\nStates   \n",
       "2   3                 Jeff Bezos     $114 billion  59  United\\nStates   \n",
       "3   4              Larry Ellison     $107 billion  78  United\\nStates   \n",
       "4   5             Warren Buffett     $106 billion  92  United\\nStates   \n",
       "5   6                 Bill Gates     $104 billion  67  United\\nStates   \n",
       "6   7          Michael Bloomberg    $94.5 billion  81  United\\nStates   \n",
       "7   8       Carlos Slim & family      $93 billion  83          Mexico   \n",
       "8   9              Mukesh Ambani    $83.4 billion  65           India   \n",
       "9  10              Steve Ballmer    $80.7 billion  67  United\\nStates   \n",
       "\n",
       "           Primary source(s) of wealth  \n",
       "0                                 LVMH  \n",
       "1               Tesla, SpaceX, X Corp.  \n",
       "2                               Amazon  \n",
       "3                   Oracle Corporation  \n",
       "4                   Berkshire Hathaway  \n",
       "5                            Microsoft  \n",
       "6                       Bloomberg L.P.  \n",
       "7  Telmex, América Móvil, Grupo\\nCarso  \n",
       "8                  Reliance Industries  \n",
       "9                            Microsoft  "
      ]
     },
     "execution_count": 19,
     "metadata": {},
     "output_type": "execute_result"
    }
   ],
   "source": [
    "table_dfs[0]"
   ]
  },
  {
   "cell_type": "code",
   "execution_count": 20,
   "metadata": {},
   "outputs": [
    {
     "data": {
      "text/html": [
       "<div>\n",
       "<style scoped>\n",
       "    .dataframe tbody tr th:only-of-type {\n",
       "        vertical-align: middle;\n",
       "    }\n",
       "\n",
       "    .dataframe tbody tr th {\n",
       "        vertical-align: top;\n",
       "    }\n",
       "\n",
       "    .dataframe thead th {\n",
       "        text-align: right;\n",
       "    }\n",
       "</style>\n",
       "<table border=\"1\" class=\"dataframe\">\n",
       "  <thead>\n",
       "    <tr style=\"text-align: right;\">\n",
       "      <th></th>\n",
       "      <th>Year</th>\n",
       "      <th>Number of billionaires</th>\n",
       "      <th>Group's combined net worth</th>\n",
       "    </tr>\n",
       "  </thead>\n",
       "  <tbody>\n",
       "    <tr>\n",
       "      <th>0</th>\n",
       "      <td>2023[2]</td>\n",
       "      <td>2,640</td>\n",
       "      <td>$12.2 trillion</td>\n",
       "    </tr>\n",
       "    <tr>\n",
       "      <th>1</th>\n",
       "      <td>2022[6]</td>\n",
       "      <td>2,668</td>\n",
       "      <td>$12.7 trillion</td>\n",
       "    </tr>\n",
       "    <tr>\n",
       "      <th>2</th>\n",
       "      <td>2021[11]</td>\n",
       "      <td>2,755</td>\n",
       "      <td>$13.1 trillion</td>\n",
       "    </tr>\n",
       "    <tr>\n",
       "      <th>3</th>\n",
       "      <td>2020</td>\n",
       "      <td>2,095</td>\n",
       "      <td>$8.0 trillion</td>\n",
       "    </tr>\n",
       "    <tr>\n",
       "      <th>4</th>\n",
       "      <td>2019</td>\n",
       "      <td>2,153</td>\n",
       "      <td>$8.7 trillion</td>\n",
       "    </tr>\n",
       "    <tr>\n",
       "      <th>5</th>\n",
       "      <td>2018</td>\n",
       "      <td>2,208</td>\n",
       "      <td>$9.1 trillion</td>\n",
       "    </tr>\n",
       "    <tr>\n",
       "      <th>6</th>\n",
       "      <td>2017</td>\n",
       "      <td>2,043</td>\n",
       "      <td>$7.7 trillion</td>\n",
       "    </tr>\n",
       "    <tr>\n",
       "      <th>7</th>\n",
       "      <td>2016</td>\n",
       "      <td>1,810</td>\n",
       "      <td>$6.5 trillion</td>\n",
       "    </tr>\n",
       "    <tr>\n",
       "      <th>8</th>\n",
       "      <td>2015[18]</td>\n",
       "      <td>1,826</td>\n",
       "      <td>$7.1 trillion</td>\n",
       "    </tr>\n",
       "    <tr>\n",
       "      <th>9</th>\n",
       "      <td>2014[67]</td>\n",
       "      <td>1,645</td>\n",
       "      <td>$6.4 trillion</td>\n",
       "    </tr>\n",
       "    <tr>\n",
       "      <th>10</th>\n",
       "      <td>2013[68]</td>\n",
       "      <td>1,426</td>\n",
       "      <td>$5.4 trillion</td>\n",
       "    </tr>\n",
       "    <tr>\n",
       "      <th>11</th>\n",
       "      <td>2012</td>\n",
       "      <td>1,226</td>\n",
       "      <td>$4.6 trillion</td>\n",
       "    </tr>\n",
       "    <tr>\n",
       "      <th>12</th>\n",
       "      <td>2011</td>\n",
       "      <td>1,210</td>\n",
       "      <td>$4.5 trillion</td>\n",
       "    </tr>\n",
       "    <tr>\n",
       "      <th>13</th>\n",
       "      <td>2010</td>\n",
       "      <td>1,011</td>\n",
       "      <td>$3.6 trillion</td>\n",
       "    </tr>\n",
       "    <tr>\n",
       "      <th>14</th>\n",
       "      <td>2009</td>\n",
       "      <td>793</td>\n",
       "      <td>$2.4 trillion</td>\n",
       "    </tr>\n",
       "    <tr>\n",
       "      <th>15</th>\n",
       "      <td>2008</td>\n",
       "      <td>1,125</td>\n",
       "      <td>$4.4 trillion</td>\n",
       "    </tr>\n",
       "    <tr>\n",
       "      <th>16</th>\n",
       "      <td>2007</td>\n",
       "      <td>946</td>\n",
       "      <td>$3.5 trillion</td>\n",
       "    </tr>\n",
       "    <tr>\n",
       "      <th>17</th>\n",
       "      <td>2006</td>\n",
       "      <td>793</td>\n",
       "      <td>$2.6 trillion</td>\n",
       "    </tr>\n",
       "    <tr>\n",
       "      <th>18</th>\n",
       "      <td>2005</td>\n",
       "      <td>691</td>\n",
       "      <td>$2.2 trillion</td>\n",
       "    </tr>\n",
       "    <tr>\n",
       "      <th>19</th>\n",
       "      <td>2004</td>\n",
       "      <td>587</td>\n",
       "      <td>$1.9 trillion</td>\n",
       "    </tr>\n",
       "    <tr>\n",
       "      <th>20</th>\n",
       "      <td>2003</td>\n",
       "      <td>476</td>\n",
       "      <td>$1.4 trillion</td>\n",
       "    </tr>\n",
       "    <tr>\n",
       "      <th>21</th>\n",
       "      <td>2002</td>\n",
       "      <td>497</td>\n",
       "      <td>$1.5 trillion</td>\n",
       "    </tr>\n",
       "    <tr>\n",
       "      <th>22</th>\n",
       "      <td>2001</td>\n",
       "      <td>538</td>\n",
       "      <td>$1.8 trillion</td>\n",
       "    </tr>\n",
       "    <tr>\n",
       "      <th>23</th>\n",
       "      <td>2000</td>\n",
       "      <td>470</td>\n",
       "      <td>$898 billion</td>\n",
       "    </tr>\n",
       "    <tr>\n",
       "      <th>24</th>\n",
       "      <td>Sources: Forbes.[18][67][66][68]</td>\n",
       "      <td></td>\n",
       "      <td></td>\n",
       "    </tr>\n",
       "  </tbody>\n",
       "</table>\n",
       "</div>"
      ],
      "text/plain": [
       "                                Year Number of billionaires  \\\n",
       "0                            2023[2]                  2,640   \n",
       "1                            2022[6]                  2,668   \n",
       "2                           2021[11]                  2,755   \n",
       "3                               2020                  2,095   \n",
       "4                               2019                  2,153   \n",
       "5                               2018                  2,208   \n",
       "6                               2017                  2,043   \n",
       "7                               2016                  1,810   \n",
       "8                           2015[18]                  1,826   \n",
       "9                           2014[67]                  1,645   \n",
       "10                          2013[68]                  1,426   \n",
       "11                              2012                  1,226   \n",
       "12                              2011                  1,210   \n",
       "13                              2010                  1,011   \n",
       "14                              2009                    793   \n",
       "15                              2008                  1,125   \n",
       "16                              2007                    946   \n",
       "17                              2006                    793   \n",
       "18                              2005                    691   \n",
       "19                              2004                    587   \n",
       "20                              2003                    476   \n",
       "21                              2002                    497   \n",
       "22                              2001                    538   \n",
       "23                              2000                    470   \n",
       "24  Sources: Forbes.[18][67][66][68]                          \n",
       "\n",
       "   Group's combined net worth  \n",
       "0              $12.2 trillion  \n",
       "1              $12.7 trillion  \n",
       "2              $13.1 trillion  \n",
       "3               $8.0 trillion  \n",
       "4               $8.7 trillion  \n",
       "5               $9.1 trillion  \n",
       "6               $7.7 trillion  \n",
       "7               $6.5 trillion  \n",
       "8               $7.1 trillion  \n",
       "9               $6.4 trillion  \n",
       "10              $5.4 trillion  \n",
       "11              $4.6 trillion  \n",
       "12              $4.5 trillion  \n",
       "13              $3.6 trillion  \n",
       "14              $2.4 trillion  \n",
       "15              $4.4 trillion  \n",
       "16              $3.5 trillion  \n",
       "17              $2.6 trillion  \n",
       "18              $2.2 trillion  \n",
       "19              $1.9 trillion  \n",
       "20              $1.4 trillion  \n",
       "21              $1.5 trillion  \n",
       "22              $1.8 trillion  \n",
       "23               $898 billion  \n",
       "24                             "
      ]
     },
     "execution_count": 20,
     "metadata": {},
     "output_type": "execute_result"
    }
   ],
   "source": [
    "table_dfs[1]"
   ]
  },
  {
   "cell_type": "markdown",
   "metadata": {},
   "source": [
    "# Create Pandas Query Engines"
   ]
  },
  {
   "cell_type": "code",
   "execution_count": 21,
   "metadata": {},
   "outputs": [],
   "source": [
    "df_query_engines = [\n",
    "                    PandasQueryEngine(\n",
    "                                    table_df, \n",
    "                                    service_context=service_context\n",
    "                                    )\n",
    "                    for table_df in table_dfs\n",
    "                    ]"
   ]
  },
  {
   "cell_type": "markdown",
   "metadata": {},
   "source": [
    "#### sample querying"
   ]
  },
  {
   "cell_type": "code",
   "execution_count": 22,
   "metadata": {},
   "outputs": [
    {
     "name": "stdout",
     "output_type": "stream",
     "text": [
      "$180 billion\n"
     ]
    }
   ],
   "source": [
    "response = df_query_engines[0].query(\n",
    "    \"What's the net worth of the second richest billionaire in 2023?\"\n",
    ")\n",
    "print(str(response))"
   ]
  },
  {
   "cell_type": "code",
   "execution_count": 23,
   "metadata": {},
   "outputs": [
    {
     "name": "stdout",
     "output_type": "stream",
     "text": [
      "14    793\n",
      "Name: Number of billionaires, dtype: object\n"
     ]
    }
   ],
   "source": [
    "response = df_query_engines[1].query(\n",
    "    \"How many billionaires were there in 2009?\"\n",
    ")\n",
    "print(str(response))"
   ]
  },
  {
   "cell_type": "markdown",
   "metadata": {},
   "source": [
    "# Build Vector Index"
   ]
  },
  {
   "cell_type": "code",
   "execution_count": 25,
   "metadata": {},
   "outputs": [
    {
     "data": {
      "text/plain": [
       "33"
      ]
     },
     "execution_count": 25,
     "metadata": {},
     "output_type": "execute_result"
    }
   ],
   "source": [
    "len(docs)"
   ]
  },
  {
   "cell_type": "code",
   "execution_count": 27,
   "metadata": {},
   "outputs": [
    {
     "data": {
      "text/plain": [
       "40"
      ]
     },
     "execution_count": 27,
     "metadata": {},
     "output_type": "execute_result"
    }
   ],
   "source": [
    "doc_nodes = service_context.node_parser.get_nodes_from_documents(docs)\n",
    "len(doc_nodes)"
   ]
  },
  {
   "cell_type": "code",
   "execution_count": 44,
   "metadata": {},
   "outputs": [],
   "source": [
    "# define index nodes\n",
    "summaries = [\n",
    "            (\n",
    "            \"This node provides information about the world's richest billionaires\"\n",
    "            \" in 2023\"\n",
    "            ),\n",
    "            (\n",
    "            \"This node provides information on the number of billionaires and\"\n",
    "            \" their combined net worth from 2000 to 2023.\"\n",
    "            )\n",
    "            ]\n",
    "\n",
    "df_nodes = [\n",
    "            IndexNode(text=summary, index_id=f\"table {idx}\")\n",
    "            for idx, summary in enumerate(summaries)\n",
    "            ]\n",
    "\n",
    "\n",
    "df_id_query_engine_mapping = {\n",
    "                            f\"table {idx}\": df_query_engine\n",
    "                            for idx, df_query_engine in enumerate(df_query_engines)\n",
    "                            }"
   ]
  },
  {
   "cell_type": "code",
   "execution_count": 45,
   "metadata": {},
   "outputs": [],
   "source": [
    "vector_index = VectorStoreIndex(doc_nodes + df_nodes)\n",
    "vector_retriever = vector_index.as_retriever(similarity_top_k=1)"
   ]
  },
  {
   "cell_type": "markdown",
   "metadata": {},
   "source": [
    "# Build Query Engine"
   ]
  },
  {
   "cell_type": "code",
   "execution_count": 46,
   "metadata": {},
   "outputs": [],
   "source": [
    "recursive_retriever = RecursiveRetriever(\n",
    "                                        \"vector\",\n",
    "                                        retriever_dict={\"vector\": vector_retriever},\n",
    "                                        query_engine_dict=df_id_query_engine_mapping,\n",
    "                                        verbose=True,\n",
    "                                        )\n",
    "\n",
    "response_synthesizer = get_response_synthesizer(response_mode=\"compact\")\n",
    "\n",
    "query_engine = RetrieverQueryEngine.from_args(\n",
    "                                            recursive_retriever, \n",
    "                                            response_synthesizer=response_synthesizer\n",
    "                                            )"
   ]
  },
  {
   "cell_type": "markdown",
   "metadata": {},
   "source": [
    "# Querying"
   ]
  },
  {
   "cell_type": "code",
   "execution_count": 47,
   "metadata": {},
   "outputs": [
    {
     "name": "stdout",
     "output_type": "stream",
     "text": [
      "\u001b[1;3;34mRetrieving with query id None: What's the net worth of the second richest billionaire in 2023?\n",
      "\u001b[0m\u001b[1;3;38;5;200mRetrieved node with id, entering: table 0\n",
      "\u001b[0m\u001b[1;3;34mRetrieving with query id table 0: What's the net worth of the second richest billionaire in 2023?\n",
      "\u001b[0m"
     ]
    },
    {
     "name": "stdout",
     "output_type": "stream",
     "text": [
      "\u001b[1;3;32mGot response: $180 billion\n",
      "\u001b[0m"
     ]
    }
   ],
   "source": [
    "response = query_engine.query(\n",
    "            \"What's the net worth of the second richest billionaire in 2023?\"\n",
    ")"
   ]
  },
  {
   "cell_type": "code",
   "execution_count": 48,
   "metadata": {},
   "outputs": [
    {
     "name": "stdout",
     "output_type": "stream",
     "text": [
      "Node ID: a2ad14ec-31a6-4813-a828-2ea95b24dad1\n",
      "Text: Query: What's the net worth of the second richest billionaire in\n",
      "2023? Response: $180 billion\n",
      "Score:  0.761\n",
      "\n"
     ]
    }
   ],
   "source": [
    "print(response.source_nodes[0])"
   ]
  }
 ],
 "metadata": {
  "kernelspec": {
   "display_name": "llamaindex",
   "language": "python",
   "name": "python3"
  },
  "language_info": {
   "codemirror_mode": {
    "name": "ipython",
    "version": 3
   },
   "file_extension": ".py",
   "mimetype": "text/x-python",
   "name": "python",
   "nbconvert_exporter": "python",
   "pygments_lexer": "ipython3",
   "version": "3.9.18"
  }
 },
 "nbformat": 4,
 "nbformat_minor": 2
}
